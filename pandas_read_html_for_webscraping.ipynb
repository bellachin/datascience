{
  "nbformat": 4,
  "nbformat_minor": 0,
  "metadata": {
    "colab": {
      "name": "pandas-read-html-for-webscraping.ipynb",
      "provenance": []
    },
    "kernelspec": {
      "name": "python3",
      "display_name": "Python 3"
    }
  },
  "cells": [
    {
      "cell_type": "markdown",
      "metadata": {
        "id": "5WNm0Jm7Sg_B"
      },
      "source": [
        "# **Using pandas read_html to Web Scrape Data for Data Science**\n",
        "\n",
        "Chanin Nantasenamat\n",
        "\n",
        "<i>[Data Professor YouTube channel](http://youtube.com/dataprofessor), http://youtube.com/dataprofessor </i>\n",
        "\n",
        "In this Jupyter notebook, I will be showing you how to easily web scrape data using pandas read_html() function for your data science project. We will be web scraping NBA player stats data and perform a quick data exploration."
      ]
    },
    {
      "cell_type": "code",
      "source": [],
      "metadata": {
        "id": "_putA9VsoZu8"
      },
      "execution_count": null,
      "outputs": []
    },
    {
      "cell_type": "markdown",
      "metadata": {
        "id": "jsGSzqADSa0o"
      },
      "source": [
        "## **URL to the webpage \"NFL Stats\"**"
      ]
    },
    {
      "cell_type": "markdown",
      "metadata": {
        "id": "-AQZU0n4StVq"
      },
      "source": [
        "### Method 1\n",
        "\n",
        "We could modularize the URL and year strings of text that may be useful for programmatic access (in the subsequent code cell)."
      ]
    },
    {
      "cell_type": "code",
      "metadata": {
        "id": "pGkHgtANQ4b2"
      },
      "source": [
        "# The Building Blocks\n",
        "year = '2019'\n",
        "url_link = 'https://www.pro-football-reference.com/years/2018/index.htm'\n",
        "# Combining the URL + year strings together\n",
        "url = url_link.format(year)\n",
        "url"
      ],
      "execution_count": null,
      "outputs": []
    },
    {
      "cell_type": "markdown",
      "metadata": {
        "id": "ySZux1-hWLbX"
      },
      "source": [
        "Now, let's programmatically return a list of URL given a list of years (e.g. 2015,2016,2017,2018,2019)."
      ]
    },
    {
      "cell_type": "code",
      "metadata": {
        "id": "JSw9Q7s7VQyd",
        "outputId": "48526189-6342-40d3-9ffa-68cf30a090ce",
        "colab": {
          "base_uri": "https://localhost:8080/"
        }
      },
      "source": [
        "years = [2015,2016,2017,2018,2019]\n",
        "url_link = 'https://www.pro-football-reference.com/years/{}/index.htm'\n",
        "for year in years:\n",
        "  url = url_link.format(year)\n",
        "  print(url)"
      ],
      "execution_count": 9,
      "outputs": [
        {
          "output_type": "stream",
          "name": "stdout",
          "text": [
            "https://www.pro-football-reference.com/years/2015/index.htm\n",
            "https://www.pro-football-reference.com/years/2016/index.htm\n",
            "https://www.pro-football-reference.com/years/2017/index.htm\n",
            "https://www.pro-football-reference.com/years/2018/index.htm\n",
            "https://www.pro-football-reference.com/years/2019/index.htm\n"
          ]
        }
      ]
    },
    {
      "cell_type": "markdown",
      "metadata": {
        "id": "wlDt8TTxSvEz"
      },
      "source": [
        "Method 2"
      ]
    },
    {
      "cell_type": "code",
      "metadata": {
        "id": "-x78Rt_iRmCa"
      },
      "source": [
        "url = 'https://www.pro-football-reference.com/years/2018/index.htm'"
      ],
      "execution_count": null,
      "outputs": []
    },
    {
      "cell_type": "markdown",
      "metadata": {
        "id": "fhVY2xJJS0FU"
      },
      "source": [
        "## **Read HTML webpage into pandas**"
      ]
    },
    {
      "cell_type": "code",
      "metadata": {
        "id": "yE_EfE-gPW1a"
      },
      "source": [
        "import pandas as pd"
      ],
      "execution_count": 2,
      "outputs": []
    },
    {
      "cell_type": "markdown",
      "metadata": {
        "id": "Sk1EUVeFUXPq"
      },
      "source": [
        "### Using pd.read_html() function to read HTML webpage"
      ]
    },
    {
      "cell_type": "code",
      "metadata": {
        "id": "4sLS78K-S-r2",
        "outputId": "d0576ccb-1e68-4bd9-fd90-fbb043aa57a1",
        "colab": {
          "base_uri": "https://localhost:8080/"
        }
      },
      "source": [
        "df = pd.read_html(url, header = 0)\n",
        "df"
      ],
      "execution_count": 56,
      "outputs": [
        {
          "output_type": "execute_result",
          "data": {
            "text/plain": [
              "[                       Tm          W          L          T       W-L%  \\\n",
              " 0                AFC East   AFC East   AFC East   AFC East   AFC East   \n",
              " 1   New England Patriots*         12          4          0       .750   \n",
              " 2          Buffalo Bills+         10          6          0       .625   \n",
              " 3           New York Jets          7          9          0       .438   \n",
              " 4          Miami Dolphins          5         11          0       .313   \n",
              " 5               AFC North  AFC North  AFC North  AFC North  AFC North   \n",
              " 6       Baltimore Ravens*         14          2          0       .875   \n",
              " 7     Pittsburgh Steelers          8          8          0       .500   \n",
              " 8        Cleveland Browns          6         10          0       .375   \n",
              " 9      Cincinnati Bengals          2         14          0       .125   \n",
              " 10              AFC South  AFC South  AFC South  AFC South  AFC South   \n",
              " 11        Houston Texans*         10          6          0       .625   \n",
              " 12      Tennessee Titans+          9          7          0       .563   \n",
              " 13     Indianapolis Colts          7          9          0       .438   \n",
              " 14   Jacksonville Jaguars          6         10          0       .375   \n",
              " 15               AFC West   AFC West   AFC West   AFC West   AFC West   \n",
              " 16    Kansas City Chiefs*         12          4          0       .750   \n",
              " 17         Denver Broncos          7          9          0       .438   \n",
              " 18        Oakland Raiders          7          9          0       .438   \n",
              " 19   Los Angeles Chargers          5         11          0       .313   \n",
              " \n",
              "            PF         PA         PD        MoV        SoS        SRS  \\\n",
              " 0    AFC East   AFC East   AFC East   AFC East   AFC East   AFC East   \n",
              " 1         420        225        195       12.2       -1.8       10.4   \n",
              " 2         314        259         55        3.4       -1.3        2.2   \n",
              " 3         276        359        -83       -5.2       -1.1       -6.3   \n",
              " 4         306        494       -188      -11.8        0.2      -11.6   \n",
              " 5   AFC North  AFC North  AFC North  AFC North  AFC North  AFC North   \n",
              " 6         531        282        249       15.6        0.1       15.6   \n",
              " 7         289        303        -14       -0.9        1.2        0.3   \n",
              " 8         335        393        -58       -3.6        1.7       -1.9   \n",
              " 9         279        420       -141       -8.8        1.5       -7.3   \n",
              " 10  AFC South  AFC South  AFC South  AFC South  AFC South  AFC South   \n",
              " 11        378        385         -7       -0.4        1.0        0.5   \n",
              " 12        402        331         71        4.4       -1.0        3.4   \n",
              " 13        361        373        -12       -0.8       -1.1       -1.8   \n",
              " 14        300        397        -97       -6.1       -0.6       -6.7   \n",
              " 15   AFC West   AFC West   AFC West   AFC West   AFC West   AFC West   \n",
              " 16        451        308        143        8.9        0.2        9.1   \n",
              " 17        282        316        -34       -2.1        0.0       -2.1   \n",
              " 18        313        419       -106       -6.6       -0.3       -6.9   \n",
              " 19        337        345         -8       -0.5       -0.8       -1.3   \n",
              " \n",
              "          OSRS       DSRS  \n",
              " 0    AFC East   AFC East  \n",
              " 1         2.8        7.6  \n",
              " 2        -3.5        5.7  \n",
              " 3        -5.7       -0.6  \n",
              " 4        -2.4       -9.1  \n",
              " 5   AFC North  AFC North  \n",
              " 6        11.0        4.7  \n",
              " 7        -4.3        4.6  \n",
              " 8        -0.4       -1.5  \n",
              " 9        -4.4       -2.9  \n",
              " 10  AFC South  AFC South  \n",
              " 11        1.0       -0.5  \n",
              " 12        1.8        1.7  \n",
              " 13       -1.0       -0.8  \n",
              " 14       -4.6       -2.1  \n",
              " 15   AFC West   AFC West  \n",
              " 16        6.2        2.9  \n",
              " 17       -4.8        2.7  \n",
              " 18       -2.5       -4.4  \n",
              " 19       -1.6        0.3  ,\n",
              "                       Tm          W          L          T       W-L%  \\\n",
              " 0               NFC East   NFC East   NFC East   NFC East   NFC East   \n",
              " 1   Philadelphia Eagles*          9          7          0       .563   \n",
              " 2         Dallas Cowboys          8          8          0       .500   \n",
              " 3        New York Giants          4         12          0       .250   \n",
              " 4    Washington Redskins          3         13          0       .188   \n",
              " 5              NFC North  NFC North  NFC North  NFC North  NFC North   \n",
              " 6     Green Bay Packers*         13          3          0       .813   \n",
              " 7     Minnesota Vikings+         10          6          0       .625   \n",
              " 8          Chicago Bears          8          8          0       .500   \n",
              " 9          Detroit Lions          3         12          1       .219   \n",
              " 10             NFC South  NFC South  NFC South  NFC South  NFC South   \n",
              " 11   New Orleans Saints*         13          3          0       .813   \n",
              " 12       Atlanta Falcons          7          9          0       .438   \n",
              " 13  Tampa Bay Buccaneers          7          9          0       .438   \n",
              " 14     Carolina Panthers          5         11          0       .313   \n",
              " 15              NFC West   NFC West   NFC West   NFC West   NFC West   \n",
              " 16  San Francisco 49ers*         13          3          0       .813   \n",
              " 17     Seattle Seahawks+         11          5          0       .688   \n",
              " 18      Los Angeles Rams          9          7          0       .563   \n",
              " 19     Arizona Cardinals          5         10          1       .344   \n",
              " \n",
              "            PF         PA         PD        MoV        SoS        SRS  \\\n",
              " 0    NFC East   NFC East   NFC East   NFC East   NFC East   NFC East   \n",
              " 1         385        354         31        1.9       -1.7        0.3   \n",
              " 2         434        321        113        7.1       -1.8        5.3   \n",
              " 3         341        451       -110       -6.9       -1.0       -7.9   \n",
              " 4         266        435       -169      -10.6       -0.2      -10.8   \n",
              " 5   NFC North  NFC North  NFC North  NFC North  NFC North  NFC North   \n",
              " 6         376        313         63        3.9       -0.7        3.2   \n",
              " 7         407        303        104        6.5       -1.1        5.4   \n",
              " 8         280        298        -18       -1.1        0.2       -0.9   \n",
              " 9         341        423        -82       -5.1       -0.1       -5.2   \n",
              " 10  NFC South  NFC South  NFC South  NFC South  NFC South  NFC South   \n",
              " 11        458        341        117        7.3        0.0        7.4   \n",
              " 12        381        399        -18       -1.1        1.1       -0.1   \n",
              " 13        458        449          9        0.6       -0.2        0.4   \n",
              " 14        340        470       -130       -8.1        1.1       -7.0   \n",
              " 15   NFC West   NFC West   NFC West   NFC West   NFC West   NFC West   \n",
              " 16        479        310        169       10.6        0.4       11.0   \n",
              " 17        405        398          7        0.4        2.3        2.7   \n",
              " 18        394        364         30        1.9        2.0        3.9   \n",
              " 19        361        442        -81       -5.1        1.8       -3.2   \n",
              " \n",
              "          OSRS       DSRS  \n",
              " 0    NFC East   NFC East  \n",
              " 1         0.7       -0.4  \n",
              " 2         3.8        1.5  \n",
              " 3        -1.8       -6.1  \n",
              " 4        -6.3       -4.5  \n",
              " 5   NFC North  NFC North  \n",
              " 6         0.6        2.6  \n",
              " 7         2.5        2.9  \n",
              " 8        -5.4        4.5  \n",
              " 9        -1.2       -4.0  \n",
              " 10  NFC South  NFC South  \n",
              " 11        5.0        2.3  \n",
              " 12        0.3       -0.4  \n",
              " 13        4.9       -4.5  \n",
              " 14       -1.9       -5.1  \n",
              " 15   NFC West   NFC West  \n",
              " 16        6.7        4.3  \n",
              " 17        2.9       -0.2  \n",
              " 18        2.2        1.7  \n",
              " 19       -0.3       -2.9  ]"
            ]
          },
          "metadata": {},
          "execution_count": 56
        }
      ]
    },
    {
      "cell_type": "markdown",
      "metadata": {
        "id": "iVtWB7zuUWIp"
      },
      "source": [
        "### How many tables are there in the webpage?"
      ]
    },
    {
      "cell_type": "code",
      "metadata": {
        "id": "BdIXrthuTApH",
        "outputId": "3cd0d0b8-5076-46a1-abbb-2acb27ccbb1f",
        "colab": {
          "base_uri": "https://localhost:8080/"
        }
      },
      "source": [
        "len(df)"
      ],
      "execution_count": 18,
      "outputs": [
        {
          "output_type": "execute_result",
          "data": {
            "text/plain": [
              "2"
            ]
          },
          "metadata": {},
          "execution_count": 18
        }
      ]
    },
    {
      "cell_type": "markdown",
      "metadata": {
        "id": "glCMVlkWU6ik"
      },
      "source": [
        "### Select the first table"
      ]
    },
    {
      "cell_type": "code",
      "metadata": {
        "id": "Pv0NHbFeTrEp",
        "outputId": "b3461b51-d1eb-42da-c51a-b7120907820c",
        "colab": {
          "base_uri": "https://localhost:8080/",
          "height": 1000
        }
      },
      "source": [
        "df[0]"
      ],
      "execution_count": 58,
      "outputs": [
        {
          "output_type": "execute_result",
          "data": {
            "text/plain": [
              "                       Tm          W          L          T       W-L%  \\\n",
              "0                AFC East   AFC East   AFC East   AFC East   AFC East   \n",
              "1   New England Patriots*         12          4          0       .750   \n",
              "2          Buffalo Bills+         10          6          0       .625   \n",
              "3           New York Jets          7          9          0       .438   \n",
              "4          Miami Dolphins          5         11          0       .313   \n",
              "5               AFC North  AFC North  AFC North  AFC North  AFC North   \n",
              "6       Baltimore Ravens*         14          2          0       .875   \n",
              "7     Pittsburgh Steelers          8          8          0       .500   \n",
              "8        Cleveland Browns          6         10          0       .375   \n",
              "9      Cincinnati Bengals          2         14          0       .125   \n",
              "10              AFC South  AFC South  AFC South  AFC South  AFC South   \n",
              "11        Houston Texans*         10          6          0       .625   \n",
              "12      Tennessee Titans+          9          7          0       .563   \n",
              "13     Indianapolis Colts          7          9          0       .438   \n",
              "14   Jacksonville Jaguars          6         10          0       .375   \n",
              "15               AFC West   AFC West   AFC West   AFC West   AFC West   \n",
              "16    Kansas City Chiefs*         12          4          0       .750   \n",
              "17         Denver Broncos          7          9          0       .438   \n",
              "18        Oakland Raiders          7          9          0       .438   \n",
              "19   Los Angeles Chargers          5         11          0       .313   \n",
              "\n",
              "           PF         PA         PD        MoV        SoS        SRS  \\\n",
              "0    AFC East   AFC East   AFC East   AFC East   AFC East   AFC East   \n",
              "1         420        225        195       12.2       -1.8       10.4   \n",
              "2         314        259         55        3.4       -1.3        2.2   \n",
              "3         276        359        -83       -5.2       -1.1       -6.3   \n",
              "4         306        494       -188      -11.8        0.2      -11.6   \n",
              "5   AFC North  AFC North  AFC North  AFC North  AFC North  AFC North   \n",
              "6         531        282        249       15.6        0.1       15.6   \n",
              "7         289        303        -14       -0.9        1.2        0.3   \n",
              "8         335        393        -58       -3.6        1.7       -1.9   \n",
              "9         279        420       -141       -8.8        1.5       -7.3   \n",
              "10  AFC South  AFC South  AFC South  AFC South  AFC South  AFC South   \n",
              "11        378        385         -7       -0.4        1.0        0.5   \n",
              "12        402        331         71        4.4       -1.0        3.4   \n",
              "13        361        373        -12       -0.8       -1.1       -1.8   \n",
              "14        300        397        -97       -6.1       -0.6       -6.7   \n",
              "15   AFC West   AFC West   AFC West   AFC West   AFC West   AFC West   \n",
              "16        451        308        143        8.9        0.2        9.1   \n",
              "17        282        316        -34       -2.1        0.0       -2.1   \n",
              "18        313        419       -106       -6.6       -0.3       -6.9   \n",
              "19        337        345         -8       -0.5       -0.8       -1.3   \n",
              "\n",
              "         OSRS       DSRS  \n",
              "0    AFC East   AFC East  \n",
              "1         2.8        7.6  \n",
              "2        -3.5        5.7  \n",
              "3        -5.7       -0.6  \n",
              "4        -2.4       -9.1  \n",
              "5   AFC North  AFC North  \n",
              "6        11.0        4.7  \n",
              "7        -4.3        4.6  \n",
              "8        -0.4       -1.5  \n",
              "9        -4.4       -2.9  \n",
              "10  AFC South  AFC South  \n",
              "11        1.0       -0.5  \n",
              "12        1.8        1.7  \n",
              "13       -1.0       -0.8  \n",
              "14       -4.6       -2.1  \n",
              "15   AFC West   AFC West  \n",
              "16        6.2        2.9  \n",
              "17       -4.8        2.7  \n",
              "18       -2.5       -4.4  \n",
              "19       -1.6        0.3  "
            ],
            "text/html": [
              "\n",
              "  <div id=\"df-0dba3221-2c72-4c00-b467-319cd1589e3c\" class=\"colab-df-container\">\n",
              "    <div>\n",
              "<style scoped>\n",
              "    .dataframe tbody tr th:only-of-type {\n",
              "        vertical-align: middle;\n",
              "    }\n",
              "\n",
              "    .dataframe tbody tr th {\n",
              "        vertical-align: top;\n",
              "    }\n",
              "\n",
              "    .dataframe thead th {\n",
              "        text-align: right;\n",
              "    }\n",
              "</style>\n",
              "<table border=\"1\" class=\"dataframe\">\n",
              "  <thead>\n",
              "    <tr style=\"text-align: right;\">\n",
              "      <th></th>\n",
              "      <th>Tm</th>\n",
              "      <th>W</th>\n",
              "      <th>L</th>\n",
              "      <th>T</th>\n",
              "      <th>W-L%</th>\n",
              "      <th>PF</th>\n",
              "      <th>PA</th>\n",
              "      <th>PD</th>\n",
              "      <th>MoV</th>\n",
              "      <th>SoS</th>\n",
              "      <th>SRS</th>\n",
              "      <th>OSRS</th>\n",
              "      <th>DSRS</th>\n",
              "    </tr>\n",
              "  </thead>\n",
              "  <tbody>\n",
              "    <tr>\n",
              "      <th>0</th>\n",
              "      <td>AFC East</td>\n",
              "      <td>AFC East</td>\n",
              "      <td>AFC East</td>\n",
              "      <td>AFC East</td>\n",
              "      <td>AFC East</td>\n",
              "      <td>AFC East</td>\n",
              "      <td>AFC East</td>\n",
              "      <td>AFC East</td>\n",
              "      <td>AFC East</td>\n",
              "      <td>AFC East</td>\n",
              "      <td>AFC East</td>\n",
              "      <td>AFC East</td>\n",
              "      <td>AFC East</td>\n",
              "    </tr>\n",
              "    <tr>\n",
              "      <th>1</th>\n",
              "      <td>New England Patriots*</td>\n",
              "      <td>12</td>\n",
              "      <td>4</td>\n",
              "      <td>0</td>\n",
              "      <td>.750</td>\n",
              "      <td>420</td>\n",
              "      <td>225</td>\n",
              "      <td>195</td>\n",
              "      <td>12.2</td>\n",
              "      <td>-1.8</td>\n",
              "      <td>10.4</td>\n",
              "      <td>2.8</td>\n",
              "      <td>7.6</td>\n",
              "    </tr>\n",
              "    <tr>\n",
              "      <th>2</th>\n",
              "      <td>Buffalo Bills+</td>\n",
              "      <td>10</td>\n",
              "      <td>6</td>\n",
              "      <td>0</td>\n",
              "      <td>.625</td>\n",
              "      <td>314</td>\n",
              "      <td>259</td>\n",
              "      <td>55</td>\n",
              "      <td>3.4</td>\n",
              "      <td>-1.3</td>\n",
              "      <td>2.2</td>\n",
              "      <td>-3.5</td>\n",
              "      <td>5.7</td>\n",
              "    </tr>\n",
              "    <tr>\n",
              "      <th>3</th>\n",
              "      <td>New York Jets</td>\n",
              "      <td>7</td>\n",
              "      <td>9</td>\n",
              "      <td>0</td>\n",
              "      <td>.438</td>\n",
              "      <td>276</td>\n",
              "      <td>359</td>\n",
              "      <td>-83</td>\n",
              "      <td>-5.2</td>\n",
              "      <td>-1.1</td>\n",
              "      <td>-6.3</td>\n",
              "      <td>-5.7</td>\n",
              "      <td>-0.6</td>\n",
              "    </tr>\n",
              "    <tr>\n",
              "      <th>4</th>\n",
              "      <td>Miami Dolphins</td>\n",
              "      <td>5</td>\n",
              "      <td>11</td>\n",
              "      <td>0</td>\n",
              "      <td>.313</td>\n",
              "      <td>306</td>\n",
              "      <td>494</td>\n",
              "      <td>-188</td>\n",
              "      <td>-11.8</td>\n",
              "      <td>0.2</td>\n",
              "      <td>-11.6</td>\n",
              "      <td>-2.4</td>\n",
              "      <td>-9.1</td>\n",
              "    </tr>\n",
              "    <tr>\n",
              "      <th>5</th>\n",
              "      <td>AFC North</td>\n",
              "      <td>AFC North</td>\n",
              "      <td>AFC North</td>\n",
              "      <td>AFC North</td>\n",
              "      <td>AFC North</td>\n",
              "      <td>AFC North</td>\n",
              "      <td>AFC North</td>\n",
              "      <td>AFC North</td>\n",
              "      <td>AFC North</td>\n",
              "      <td>AFC North</td>\n",
              "      <td>AFC North</td>\n",
              "      <td>AFC North</td>\n",
              "      <td>AFC North</td>\n",
              "    </tr>\n",
              "    <tr>\n",
              "      <th>6</th>\n",
              "      <td>Baltimore Ravens*</td>\n",
              "      <td>14</td>\n",
              "      <td>2</td>\n",
              "      <td>0</td>\n",
              "      <td>.875</td>\n",
              "      <td>531</td>\n",
              "      <td>282</td>\n",
              "      <td>249</td>\n",
              "      <td>15.6</td>\n",
              "      <td>0.1</td>\n",
              "      <td>15.6</td>\n",
              "      <td>11.0</td>\n",
              "      <td>4.7</td>\n",
              "    </tr>\n",
              "    <tr>\n",
              "      <th>7</th>\n",
              "      <td>Pittsburgh Steelers</td>\n",
              "      <td>8</td>\n",
              "      <td>8</td>\n",
              "      <td>0</td>\n",
              "      <td>.500</td>\n",
              "      <td>289</td>\n",
              "      <td>303</td>\n",
              "      <td>-14</td>\n",
              "      <td>-0.9</td>\n",
              "      <td>1.2</td>\n",
              "      <td>0.3</td>\n",
              "      <td>-4.3</td>\n",
              "      <td>4.6</td>\n",
              "    </tr>\n",
              "    <tr>\n",
              "      <th>8</th>\n",
              "      <td>Cleveland Browns</td>\n",
              "      <td>6</td>\n",
              "      <td>10</td>\n",
              "      <td>0</td>\n",
              "      <td>.375</td>\n",
              "      <td>335</td>\n",
              "      <td>393</td>\n",
              "      <td>-58</td>\n",
              "      <td>-3.6</td>\n",
              "      <td>1.7</td>\n",
              "      <td>-1.9</td>\n",
              "      <td>-0.4</td>\n",
              "      <td>-1.5</td>\n",
              "    </tr>\n",
              "    <tr>\n",
              "      <th>9</th>\n",
              "      <td>Cincinnati Bengals</td>\n",
              "      <td>2</td>\n",
              "      <td>14</td>\n",
              "      <td>0</td>\n",
              "      <td>.125</td>\n",
              "      <td>279</td>\n",
              "      <td>420</td>\n",
              "      <td>-141</td>\n",
              "      <td>-8.8</td>\n",
              "      <td>1.5</td>\n",
              "      <td>-7.3</td>\n",
              "      <td>-4.4</td>\n",
              "      <td>-2.9</td>\n",
              "    </tr>\n",
              "    <tr>\n",
              "      <th>10</th>\n",
              "      <td>AFC South</td>\n",
              "      <td>AFC South</td>\n",
              "      <td>AFC South</td>\n",
              "      <td>AFC South</td>\n",
              "      <td>AFC South</td>\n",
              "      <td>AFC South</td>\n",
              "      <td>AFC South</td>\n",
              "      <td>AFC South</td>\n",
              "      <td>AFC South</td>\n",
              "      <td>AFC South</td>\n",
              "      <td>AFC South</td>\n",
              "      <td>AFC South</td>\n",
              "      <td>AFC South</td>\n",
              "    </tr>\n",
              "    <tr>\n",
              "      <th>11</th>\n",
              "      <td>Houston Texans*</td>\n",
              "      <td>10</td>\n",
              "      <td>6</td>\n",
              "      <td>0</td>\n",
              "      <td>.625</td>\n",
              "      <td>378</td>\n",
              "      <td>385</td>\n",
              "      <td>-7</td>\n",
              "      <td>-0.4</td>\n",
              "      <td>1.0</td>\n",
              "      <td>0.5</td>\n",
              "      <td>1.0</td>\n",
              "      <td>-0.5</td>\n",
              "    </tr>\n",
              "    <tr>\n",
              "      <th>12</th>\n",
              "      <td>Tennessee Titans+</td>\n",
              "      <td>9</td>\n",
              "      <td>7</td>\n",
              "      <td>0</td>\n",
              "      <td>.563</td>\n",
              "      <td>402</td>\n",
              "      <td>331</td>\n",
              "      <td>71</td>\n",
              "      <td>4.4</td>\n",
              "      <td>-1.0</td>\n",
              "      <td>3.4</td>\n",
              "      <td>1.8</td>\n",
              "      <td>1.7</td>\n",
              "    </tr>\n",
              "    <tr>\n",
              "      <th>13</th>\n",
              "      <td>Indianapolis Colts</td>\n",
              "      <td>7</td>\n",
              "      <td>9</td>\n",
              "      <td>0</td>\n",
              "      <td>.438</td>\n",
              "      <td>361</td>\n",
              "      <td>373</td>\n",
              "      <td>-12</td>\n",
              "      <td>-0.8</td>\n",
              "      <td>-1.1</td>\n",
              "      <td>-1.8</td>\n",
              "      <td>-1.0</td>\n",
              "      <td>-0.8</td>\n",
              "    </tr>\n",
              "    <tr>\n",
              "      <th>14</th>\n",
              "      <td>Jacksonville Jaguars</td>\n",
              "      <td>6</td>\n",
              "      <td>10</td>\n",
              "      <td>0</td>\n",
              "      <td>.375</td>\n",
              "      <td>300</td>\n",
              "      <td>397</td>\n",
              "      <td>-97</td>\n",
              "      <td>-6.1</td>\n",
              "      <td>-0.6</td>\n",
              "      <td>-6.7</td>\n",
              "      <td>-4.6</td>\n",
              "      <td>-2.1</td>\n",
              "    </tr>\n",
              "    <tr>\n",
              "      <th>15</th>\n",
              "      <td>AFC West</td>\n",
              "      <td>AFC West</td>\n",
              "      <td>AFC West</td>\n",
              "      <td>AFC West</td>\n",
              "      <td>AFC West</td>\n",
              "      <td>AFC West</td>\n",
              "      <td>AFC West</td>\n",
              "      <td>AFC West</td>\n",
              "      <td>AFC West</td>\n",
              "      <td>AFC West</td>\n",
              "      <td>AFC West</td>\n",
              "      <td>AFC West</td>\n",
              "      <td>AFC West</td>\n",
              "    </tr>\n",
              "    <tr>\n",
              "      <th>16</th>\n",
              "      <td>Kansas City Chiefs*</td>\n",
              "      <td>12</td>\n",
              "      <td>4</td>\n",
              "      <td>0</td>\n",
              "      <td>.750</td>\n",
              "      <td>451</td>\n",
              "      <td>308</td>\n",
              "      <td>143</td>\n",
              "      <td>8.9</td>\n",
              "      <td>0.2</td>\n",
              "      <td>9.1</td>\n",
              "      <td>6.2</td>\n",
              "      <td>2.9</td>\n",
              "    </tr>\n",
              "    <tr>\n",
              "      <th>17</th>\n",
              "      <td>Denver Broncos</td>\n",
              "      <td>7</td>\n",
              "      <td>9</td>\n",
              "      <td>0</td>\n",
              "      <td>.438</td>\n",
              "      <td>282</td>\n",
              "      <td>316</td>\n",
              "      <td>-34</td>\n",
              "      <td>-2.1</td>\n",
              "      <td>0.0</td>\n",
              "      <td>-2.1</td>\n",
              "      <td>-4.8</td>\n",
              "      <td>2.7</td>\n",
              "    </tr>\n",
              "    <tr>\n",
              "      <th>18</th>\n",
              "      <td>Oakland Raiders</td>\n",
              "      <td>7</td>\n",
              "      <td>9</td>\n",
              "      <td>0</td>\n",
              "      <td>.438</td>\n",
              "      <td>313</td>\n",
              "      <td>419</td>\n",
              "      <td>-106</td>\n",
              "      <td>-6.6</td>\n",
              "      <td>-0.3</td>\n",
              "      <td>-6.9</td>\n",
              "      <td>-2.5</td>\n",
              "      <td>-4.4</td>\n",
              "    </tr>\n",
              "    <tr>\n",
              "      <th>19</th>\n",
              "      <td>Los Angeles Chargers</td>\n",
              "      <td>5</td>\n",
              "      <td>11</td>\n",
              "      <td>0</td>\n",
              "      <td>.313</td>\n",
              "      <td>337</td>\n",
              "      <td>345</td>\n",
              "      <td>-8</td>\n",
              "      <td>-0.5</td>\n",
              "      <td>-0.8</td>\n",
              "      <td>-1.3</td>\n",
              "      <td>-1.6</td>\n",
              "      <td>0.3</td>\n",
              "    </tr>\n",
              "  </tbody>\n",
              "</table>\n",
              "</div>\n",
              "    <div class=\"colab-df-buttons\">\n",
              "\n",
              "  <div class=\"colab-df-container\">\n",
              "    <button class=\"colab-df-convert\" onclick=\"convertToInteractive('df-0dba3221-2c72-4c00-b467-319cd1589e3c')\"\n",
              "            title=\"Convert this dataframe to an interactive table.\"\n",
              "            style=\"display:none;\">\n",
              "\n",
              "  <svg xmlns=\"http://www.w3.org/2000/svg\" height=\"24px\" viewBox=\"0 -960 960 960\">\n",
              "    <path d=\"M120-120v-720h720v720H120Zm60-500h600v-160H180v160Zm220 220h160v-160H400v160Zm0 220h160v-160H400v160ZM180-400h160v-160H180v160Zm440 0h160v-160H620v160ZM180-180h160v-160H180v160Zm440 0h160v-160H620v160Z\"/>\n",
              "  </svg>\n",
              "    </button>\n",
              "\n",
              "  <style>\n",
              "    .colab-df-container {\n",
              "      display:flex;\n",
              "      gap: 12px;\n",
              "    }\n",
              "\n",
              "    .colab-df-convert {\n",
              "      background-color: #E8F0FE;\n",
              "      border: none;\n",
              "      border-radius: 50%;\n",
              "      cursor: pointer;\n",
              "      display: none;\n",
              "      fill: #1967D2;\n",
              "      height: 32px;\n",
              "      padding: 0 0 0 0;\n",
              "      width: 32px;\n",
              "    }\n",
              "\n",
              "    .colab-df-convert:hover {\n",
              "      background-color: #E2EBFA;\n",
              "      box-shadow: 0px 1px 2px rgba(60, 64, 67, 0.3), 0px 1px 3px 1px rgba(60, 64, 67, 0.15);\n",
              "      fill: #174EA6;\n",
              "    }\n",
              "\n",
              "    .colab-df-buttons div {\n",
              "      margin-bottom: 4px;\n",
              "    }\n",
              "\n",
              "    [theme=dark] .colab-df-convert {\n",
              "      background-color: #3B4455;\n",
              "      fill: #D2E3FC;\n",
              "    }\n",
              "\n",
              "    [theme=dark] .colab-df-convert:hover {\n",
              "      background-color: #434B5C;\n",
              "      box-shadow: 0px 1px 3px 1px rgba(0, 0, 0, 0.15);\n",
              "      filter: drop-shadow(0px 1px 2px rgba(0, 0, 0, 0.3));\n",
              "      fill: #FFFFFF;\n",
              "    }\n",
              "  </style>\n",
              "\n",
              "    <script>\n",
              "      const buttonEl =\n",
              "        document.querySelector('#df-0dba3221-2c72-4c00-b467-319cd1589e3c button.colab-df-convert');\n",
              "      buttonEl.style.display =\n",
              "        google.colab.kernel.accessAllowed ? 'block' : 'none';\n",
              "\n",
              "      async function convertToInteractive(key) {\n",
              "        const element = document.querySelector('#df-0dba3221-2c72-4c00-b467-319cd1589e3c');\n",
              "        const dataTable =\n",
              "          await google.colab.kernel.invokeFunction('convertToInteractive',\n",
              "                                                    [key], {});\n",
              "        if (!dataTable) return;\n",
              "\n",
              "        const docLinkHtml = 'Like what you see? Visit the ' +\n",
              "          '<a target=\"_blank\" href=https://colab.research.google.com/notebooks/data_table.ipynb>data table notebook</a>'\n",
              "          + ' to learn more about interactive tables.';\n",
              "        element.innerHTML = '';\n",
              "        dataTable['output_type'] = 'display_data';\n",
              "        await google.colab.output.renderOutput(dataTable, element);\n",
              "        const docLink = document.createElement('div');\n",
              "        docLink.innerHTML = docLinkHtml;\n",
              "        element.appendChild(docLink);\n",
              "      }\n",
              "    </script>\n",
              "  </div>\n",
              "\n",
              "\n",
              "<div id=\"df-f228d319-6450-4e62-9c96-8e6db40b63ed\">\n",
              "  <button class=\"colab-df-quickchart\" onclick=\"quickchart('df-f228d319-6450-4e62-9c96-8e6db40b63ed')\"\n",
              "            title=\"Suggest charts\"\n",
              "            style=\"display:none;\">\n",
              "\n",
              "<svg xmlns=\"http://www.w3.org/2000/svg\" height=\"24px\"viewBox=\"0 0 24 24\"\n",
              "     width=\"24px\">\n",
              "    <g>\n",
              "        <path d=\"M19 3H5c-1.1 0-2 .9-2 2v14c0 1.1.9 2 2 2h14c1.1 0 2-.9 2-2V5c0-1.1-.9-2-2-2zM9 17H7v-7h2v7zm4 0h-2V7h2v10zm4 0h-2v-4h2v4z\"/>\n",
              "    </g>\n",
              "</svg>\n",
              "  </button>\n",
              "\n",
              "<style>\n",
              "  .colab-df-quickchart {\n",
              "      --bg-color: #E8F0FE;\n",
              "      --fill-color: #1967D2;\n",
              "      --hover-bg-color: #E2EBFA;\n",
              "      --hover-fill-color: #174EA6;\n",
              "      --disabled-fill-color: #AAA;\n",
              "      --disabled-bg-color: #DDD;\n",
              "  }\n",
              "\n",
              "  [theme=dark] .colab-df-quickchart {\n",
              "      --bg-color: #3B4455;\n",
              "      --fill-color: #D2E3FC;\n",
              "      --hover-bg-color: #434B5C;\n",
              "      --hover-fill-color: #FFFFFF;\n",
              "      --disabled-bg-color: #3B4455;\n",
              "      --disabled-fill-color: #666;\n",
              "  }\n",
              "\n",
              "  .colab-df-quickchart {\n",
              "    background-color: var(--bg-color);\n",
              "    border: none;\n",
              "    border-radius: 50%;\n",
              "    cursor: pointer;\n",
              "    display: none;\n",
              "    fill: var(--fill-color);\n",
              "    height: 32px;\n",
              "    padding: 0;\n",
              "    width: 32px;\n",
              "  }\n",
              "\n",
              "  .colab-df-quickchart:hover {\n",
              "    background-color: var(--hover-bg-color);\n",
              "    box-shadow: 0 1px 2px rgba(60, 64, 67, 0.3), 0 1px 3px 1px rgba(60, 64, 67, 0.15);\n",
              "    fill: var(--button-hover-fill-color);\n",
              "  }\n",
              "\n",
              "  .colab-df-quickchart-complete:disabled,\n",
              "  .colab-df-quickchart-complete:disabled:hover {\n",
              "    background-color: var(--disabled-bg-color);\n",
              "    fill: var(--disabled-fill-color);\n",
              "    box-shadow: none;\n",
              "  }\n",
              "\n",
              "  .colab-df-spinner {\n",
              "    border: 2px solid var(--fill-color);\n",
              "    border-color: transparent;\n",
              "    border-bottom-color: var(--fill-color);\n",
              "    animation:\n",
              "      spin 1s steps(1) infinite;\n",
              "  }\n",
              "\n",
              "  @keyframes spin {\n",
              "    0% {\n",
              "      border-color: transparent;\n",
              "      border-bottom-color: var(--fill-color);\n",
              "      border-left-color: var(--fill-color);\n",
              "    }\n",
              "    20% {\n",
              "      border-color: transparent;\n",
              "      border-left-color: var(--fill-color);\n",
              "      border-top-color: var(--fill-color);\n",
              "    }\n",
              "    30% {\n",
              "      border-color: transparent;\n",
              "      border-left-color: var(--fill-color);\n",
              "      border-top-color: var(--fill-color);\n",
              "      border-right-color: var(--fill-color);\n",
              "    }\n",
              "    40% {\n",
              "      border-color: transparent;\n",
              "      border-right-color: var(--fill-color);\n",
              "      border-top-color: var(--fill-color);\n",
              "    }\n",
              "    60% {\n",
              "      border-color: transparent;\n",
              "      border-right-color: var(--fill-color);\n",
              "    }\n",
              "    80% {\n",
              "      border-color: transparent;\n",
              "      border-right-color: var(--fill-color);\n",
              "      border-bottom-color: var(--fill-color);\n",
              "    }\n",
              "    90% {\n",
              "      border-color: transparent;\n",
              "      border-bottom-color: var(--fill-color);\n",
              "    }\n",
              "  }\n",
              "</style>\n",
              "\n",
              "  <script>\n",
              "    async function quickchart(key) {\n",
              "      const quickchartButtonEl =\n",
              "        document.querySelector('#' + key + ' button');\n",
              "      quickchartButtonEl.disabled = true;  // To prevent multiple clicks.\n",
              "      quickchartButtonEl.classList.add('colab-df-spinner');\n",
              "      try {\n",
              "        const charts = await google.colab.kernel.invokeFunction(\n",
              "            'suggestCharts', [key], {});\n",
              "      } catch (error) {\n",
              "        console.error('Error during call to suggestCharts:', error);\n",
              "      }\n",
              "      quickchartButtonEl.classList.remove('colab-df-spinner');\n",
              "      quickchartButtonEl.classList.add('colab-df-quickchart-complete');\n",
              "    }\n",
              "    (() => {\n",
              "      let quickchartButtonEl =\n",
              "        document.querySelector('#df-f228d319-6450-4e62-9c96-8e6db40b63ed button');\n",
              "      quickchartButtonEl.style.display =\n",
              "        google.colab.kernel.accessAllowed ? 'block' : 'none';\n",
              "    })();\n",
              "  </script>\n",
              "</div>\n",
              "\n",
              "  <div id=\"id_8777f993-8248-4a34-923c-fa2cab62b288\">\n",
              "    <style>\n",
              "      .colab-df-generate {\n",
              "        background-color: #E8F0FE;\n",
              "        border: none;\n",
              "        border-radius: 50%;\n",
              "        cursor: pointer;\n",
              "        display: none;\n",
              "        fill: #1967D2;\n",
              "        height: 32px;\n",
              "        padding: 0 0 0 0;\n",
              "        width: 32px;\n",
              "      }\n",
              "\n",
              "      .colab-df-generate:hover {\n",
              "        background-color: #E2EBFA;\n",
              "        box-shadow: 0px 1px 2px rgba(60, 64, 67, 0.3), 0px 1px 3px 1px rgba(60, 64, 67, 0.15);\n",
              "        fill: #174EA6;\n",
              "      }\n",
              "\n",
              "      [theme=dark] .colab-df-generate {\n",
              "        background-color: #3B4455;\n",
              "        fill: #D2E3FC;\n",
              "      }\n",
              "\n",
              "      [theme=dark] .colab-df-generate:hover {\n",
              "        background-color: #434B5C;\n",
              "        box-shadow: 0px 1px 3px 1px rgba(0, 0, 0, 0.15);\n",
              "        filter: drop-shadow(0px 1px 2px rgba(0, 0, 0, 0.3));\n",
              "        fill: #FFFFFF;\n",
              "      }\n",
              "    </style>\n",
              "    <button class=\"colab-df-generate\" onclick=\"generateWithVariable('df2019')\"\n",
              "            title=\"Generate code using this dataframe.\"\n",
              "            style=\"display:none;\">\n",
              "\n",
              "  <svg xmlns=\"http://www.w3.org/2000/svg\" height=\"24px\"viewBox=\"0 0 24 24\"\n",
              "       width=\"24px\">\n",
              "    <path d=\"M7,19H8.4L18.45,9,17,7.55,7,17.6ZM5,21V16.75L18.45,3.32a2,2,0,0,1,2.83,0l1.4,1.43a1.91,1.91,0,0,1,.58,1.4,1.91,1.91,0,0,1-.58,1.4L9.25,21ZM18.45,9,17,7.55Zm-12,3A5.31,5.31,0,0,0,4.9,8.1,5.31,5.31,0,0,0,1,6.5,5.31,5.31,0,0,0,4.9,4.9,5.31,5.31,0,0,0,6.5,1,5.31,5.31,0,0,0,8.1,4.9,5.31,5.31,0,0,0,12,6.5,5.46,5.46,0,0,0,6.5,12Z\"/>\n",
              "  </svg>\n",
              "    </button>\n",
              "    <script>\n",
              "      (() => {\n",
              "      const buttonEl =\n",
              "        document.querySelector('#id_8777f993-8248-4a34-923c-fa2cab62b288 button.colab-df-generate');\n",
              "      buttonEl.style.display =\n",
              "        google.colab.kernel.accessAllowed ? 'block' : 'none';\n",
              "\n",
              "      buttonEl.onclick = () => {\n",
              "        google.colab.notebook.generateWithVariable('df2019');\n",
              "      }\n",
              "      })();\n",
              "    </script>\n",
              "  </div>\n",
              "\n",
              "    </div>\n",
              "  </div>\n"
            ],
            "application/vnd.google.colaboratory.intrinsic+json": {
              "type": "dataframe",
              "variable_name": "df2019",
              "summary": "{\n  \"name\": \"df2019\",\n  \"rows\": 20,\n  \"fields\": [\n    {\n      \"column\": \"Tm\",\n      \"properties\": {\n        \"dtype\": \"string\",\n        \"num_unique_values\": 20,\n        \"samples\": [\n          \"AFC East\",\n          \"Denver Broncos\",\n          \"AFC West\"\n        ],\n        \"semantic_type\": \"\",\n        \"description\": \"\"\n      }\n    },\n    {\n      \"column\": \"W\",\n      \"properties\": {\n        \"dtype\": \"string\",\n        \"num_unique_values\": 13,\n        \"samples\": [\n          \"9\",\n          \"2\",\n          \"AFC East\"\n        ],\n        \"semantic_type\": \"\",\n        \"description\": \"\"\n      }\n    },\n    {\n      \"column\": \"L\",\n      \"properties\": {\n        \"dtype\": \"string\",\n        \"num_unique_values\": 13,\n        \"samples\": [\n          \"7\",\n          \"14\",\n          \"AFC East\"\n        ],\n        \"semantic_type\": \"\",\n        \"description\": \"\"\n      }\n    },\n    {\n      \"column\": \"T\",\n      \"properties\": {\n        \"dtype\": \"category\",\n        \"num_unique_values\": 5,\n        \"samples\": [\n          \"0\",\n          \"AFC West\",\n          \"AFC North\"\n        ],\n        \"semantic_type\": \"\",\n        \"description\": \"\"\n      }\n    },\n    {\n      \"column\": \"W-L%\",\n      \"properties\": {\n        \"dtype\": \"string\",\n        \"num_unique_values\": 13,\n        \"samples\": [\n          \".563\",\n          \".125\",\n          \"AFC East\"\n        ],\n        \"semantic_type\": \"\",\n        \"description\": \"\"\n      }\n    },\n    {\n      \"column\": \"PF\",\n      \"properties\": {\n        \"dtype\": \"string\",\n        \"num_unique_values\": 20,\n        \"samples\": [\n          \"AFC East\",\n          \"282\",\n          \"AFC West\"\n        ],\n        \"semantic_type\": \"\",\n        \"description\": \"\"\n      }\n    },\n    {\n      \"column\": \"PA\",\n      \"properties\": {\n        \"dtype\": \"string\",\n        \"num_unique_values\": 20,\n        \"samples\": [\n          \"AFC East\",\n          \"316\",\n          \"AFC West\"\n        ],\n        \"semantic_type\": \"\",\n        \"description\": \"\"\n      }\n    },\n    {\n      \"column\": \"PD\",\n      \"properties\": {\n        \"dtype\": \"string\",\n        \"num_unique_values\": 20,\n        \"samples\": [\n          \"AFC East\",\n          \"-34\",\n          \"AFC West\"\n        ],\n        \"semantic_type\": \"\",\n        \"description\": \"\"\n      }\n    },\n    {\n      \"column\": \"MoV\",\n      \"properties\": {\n        \"dtype\": \"string\",\n        \"num_unique_values\": 20,\n        \"samples\": [\n          \"AFC East\",\n          \"-2.1\",\n          \"AFC West\"\n        ],\n        \"semantic_type\": \"\",\n        \"description\": \"\"\n      }\n    },\n    {\n      \"column\": \"SoS\",\n      \"properties\": {\n        \"dtype\": \"string\",\n        \"num_unique_values\": 18,\n        \"samples\": [\n          \"AFC East\",\n          \"-1.8\",\n          \"1.7\"\n        ],\n        \"semantic_type\": \"\",\n        \"description\": \"\"\n      }\n    },\n    {\n      \"column\": \"SRS\",\n      \"properties\": {\n        \"dtype\": \"string\",\n        \"num_unique_values\": 20,\n        \"samples\": [\n          \"AFC East\",\n          \"-2.1\",\n          \"AFC West\"\n        ],\n        \"semantic_type\": \"\",\n        \"description\": \"\"\n      }\n    },\n    {\n      \"column\": \"OSRS\",\n      \"properties\": {\n        \"dtype\": \"string\",\n        \"num_unique_values\": 20,\n        \"samples\": [\n          \"AFC East\",\n          \"-4.8\",\n          \"AFC West\"\n        ],\n        \"semantic_type\": \"\",\n        \"description\": \"\"\n      }\n    },\n    {\n      \"column\": \"DSRS\",\n      \"properties\": {\n        \"dtype\": \"string\",\n        \"num_unique_values\": 20,\n        \"samples\": [\n          \"AFC East\",\n          \"2.7\",\n          \"AFC West\"\n        ],\n        \"semantic_type\": \"\",\n        \"description\": \"\"\n      }\n    }\n  ]\n}"
            }
          },
          "metadata": {},
          "execution_count": 58
        }
      ]
    },
    {
      "cell_type": "code",
      "metadata": {
        "id": "owwSCuZYU-sT"
      },
      "source": [
        "df2019 = df[0]"
      ],
      "execution_count": 57,
      "outputs": []
    },
    {
      "cell_type": "code",
      "metadata": {
        "id": "LnK9JHQ9VFkq"
      },
      "source": [],
      "execution_count": null,
      "outputs": []
    },
    {
      "cell_type": "markdown",
      "source": [],
      "metadata": {
        "id": "OLtYcVriqCfZ"
      }
    },
    {
      "cell_type": "markdown",
      "metadata": {
        "id": "laW205ykvn0S"
      },
      "source": [
        "## Data cleaning"
      ]
    },
    {
      "cell_type": "markdown",
      "source": [],
      "metadata": {
        "id": "srIl8FMAqCPE"
      }
    },
    {
      "cell_type": "markdown",
      "metadata": {
        "id": "b-cH41xd54Tw"
      },
      "source": [
        "We can see that the table header is presented multiple times in several rows."
      ]
    },
    {
      "cell_type": "code",
      "source": [],
      "metadata": {
        "id": "40KxG7jBuaEQ"
      },
      "execution_count": null,
      "outputs": []
    },
    {
      "cell_type": "code",
      "metadata": {
        "id": "rdRg9UDI5lus",
        "outputId": "36d7d093-7563-46e4-a4e9-46e590d31415",
        "colab": {
          "base_uri": "https://localhost:8080/"
        }
      },
      "source": [
        "len(df2019[df2019.Tm == 'Tm'])"
      ],
      "execution_count": 59,
      "outputs": [
        {
          "output_type": "execute_result",
          "data": {
            "text/plain": [
              "0"
            ]
          },
          "metadata": {},
          "execution_count": 59
        }
      ]
    },
    {
      "cell_type": "code",
      "metadata": {
        "id": "6St9yeuZg9rf",
        "outputId": "ef6da56e-64c2-4bf9-96f2-19e67d57f587",
        "colab": {
          "base_uri": "https://localhost:8080/",
          "height": 53
        }
      },
      "source": [
        "df2019[df2019.Tm == 'Tm']"
      ],
      "execution_count": 60,
      "outputs": [
        {
          "output_type": "execute_result",
          "data": {
            "text/plain": [
              "Empty DataFrame\n",
              "Columns: [Tm, W, L, T, W-L%, PF, PA, PD, MoV, SoS, SRS, OSRS, DSRS]\n",
              "Index: []"
            ],
            "text/html": [
              "\n",
              "  <div id=\"df-147ca49f-0082-4d6f-9f47-c8fe42695719\" class=\"colab-df-container\">\n",
              "    <div>\n",
              "<style scoped>\n",
              "    .dataframe tbody tr th:only-of-type {\n",
              "        vertical-align: middle;\n",
              "    }\n",
              "\n",
              "    .dataframe tbody tr th {\n",
              "        vertical-align: top;\n",
              "    }\n",
              "\n",
              "    .dataframe thead th {\n",
              "        text-align: right;\n",
              "    }\n",
              "</style>\n",
              "<table border=\"1\" class=\"dataframe\">\n",
              "  <thead>\n",
              "    <tr style=\"text-align: right;\">\n",
              "      <th></th>\n",
              "      <th>Tm</th>\n",
              "      <th>W</th>\n",
              "      <th>L</th>\n",
              "      <th>T</th>\n",
              "      <th>W-L%</th>\n",
              "      <th>PF</th>\n",
              "      <th>PA</th>\n",
              "      <th>PD</th>\n",
              "      <th>MoV</th>\n",
              "      <th>SoS</th>\n",
              "      <th>SRS</th>\n",
              "      <th>OSRS</th>\n",
              "      <th>DSRS</th>\n",
              "    </tr>\n",
              "  </thead>\n",
              "  <tbody>\n",
              "  </tbody>\n",
              "</table>\n",
              "</div>\n",
              "    <div class=\"colab-df-buttons\">\n",
              "\n",
              "  <div class=\"colab-df-container\">\n",
              "    <button class=\"colab-df-convert\" onclick=\"convertToInteractive('df-147ca49f-0082-4d6f-9f47-c8fe42695719')\"\n",
              "            title=\"Convert this dataframe to an interactive table.\"\n",
              "            style=\"display:none;\">\n",
              "\n",
              "  <svg xmlns=\"http://www.w3.org/2000/svg\" height=\"24px\" viewBox=\"0 -960 960 960\">\n",
              "    <path d=\"M120-120v-720h720v720H120Zm60-500h600v-160H180v160Zm220 220h160v-160H400v160Zm0 220h160v-160H400v160ZM180-400h160v-160H180v160Zm440 0h160v-160H620v160ZM180-180h160v-160H180v160Zm440 0h160v-160H620v160Z\"/>\n",
              "  </svg>\n",
              "    </button>\n",
              "\n",
              "  <style>\n",
              "    .colab-df-container {\n",
              "      display:flex;\n",
              "      gap: 12px;\n",
              "    }\n",
              "\n",
              "    .colab-df-convert {\n",
              "      background-color: #E8F0FE;\n",
              "      border: none;\n",
              "      border-radius: 50%;\n",
              "      cursor: pointer;\n",
              "      display: none;\n",
              "      fill: #1967D2;\n",
              "      height: 32px;\n",
              "      padding: 0 0 0 0;\n",
              "      width: 32px;\n",
              "    }\n",
              "\n",
              "    .colab-df-convert:hover {\n",
              "      background-color: #E2EBFA;\n",
              "      box-shadow: 0px 1px 2px rgba(60, 64, 67, 0.3), 0px 1px 3px 1px rgba(60, 64, 67, 0.15);\n",
              "      fill: #174EA6;\n",
              "    }\n",
              "\n",
              "    .colab-df-buttons div {\n",
              "      margin-bottom: 4px;\n",
              "    }\n",
              "\n",
              "    [theme=dark] .colab-df-convert {\n",
              "      background-color: #3B4455;\n",
              "      fill: #D2E3FC;\n",
              "    }\n",
              "\n",
              "    [theme=dark] .colab-df-convert:hover {\n",
              "      background-color: #434B5C;\n",
              "      box-shadow: 0px 1px 3px 1px rgba(0, 0, 0, 0.15);\n",
              "      filter: drop-shadow(0px 1px 2px rgba(0, 0, 0, 0.3));\n",
              "      fill: #FFFFFF;\n",
              "    }\n",
              "  </style>\n",
              "\n",
              "    <script>\n",
              "      const buttonEl =\n",
              "        document.querySelector('#df-147ca49f-0082-4d6f-9f47-c8fe42695719 button.colab-df-convert');\n",
              "      buttonEl.style.display =\n",
              "        google.colab.kernel.accessAllowed ? 'block' : 'none';\n",
              "\n",
              "      async function convertToInteractive(key) {\n",
              "        const element = document.querySelector('#df-147ca49f-0082-4d6f-9f47-c8fe42695719');\n",
              "        const dataTable =\n",
              "          await google.colab.kernel.invokeFunction('convertToInteractive',\n",
              "                                                    [key], {});\n",
              "        if (!dataTable) return;\n",
              "\n",
              "        const docLinkHtml = 'Like what you see? Visit the ' +\n",
              "          '<a target=\"_blank\" href=https://colab.research.google.com/notebooks/data_table.ipynb>data table notebook</a>'\n",
              "          + ' to learn more about interactive tables.';\n",
              "        element.innerHTML = '';\n",
              "        dataTable['output_type'] = 'display_data';\n",
              "        await google.colab.output.renderOutput(dataTable, element);\n",
              "        const docLink = document.createElement('div');\n",
              "        docLink.innerHTML = docLinkHtml;\n",
              "        element.appendChild(docLink);\n",
              "      }\n",
              "    </script>\n",
              "  </div>\n",
              "\n",
              "\n",
              "    </div>\n",
              "  </div>\n"
            ],
            "application/vnd.google.colaboratory.intrinsic+json": {
              "type": "dataframe",
              "repr_error": "Out of range float values are not JSON compliant: nan"
            }
          },
          "metadata": {},
          "execution_count": 60
        }
      ]
    },
    {
      "cell_type": "code",
      "source": [],
      "metadata": {
        "id": "XedFXKabtYt-"
      },
      "execution_count": null,
      "outputs": []
    },
    {
      "cell_type": "code",
      "metadata": {
        "id": "lG34yiD5e_Cs"
      },
      "source": [
        "df = df2019.drop(df2019[df2019.Tm == 'Tm'].index)\n",
        "df= df2019[pd.to_numeric(df['DSRS'], errors='coerce').notnull()]"
      ],
      "execution_count": 68,
      "outputs": []
    },
    {
      "cell_type": "markdown",
      "source": [],
      "metadata": {
        "id": "vH7AFQmrvSsa"
      }
    },
    {
      "cell_type": "code",
      "metadata": {
        "id": "1DwL0sq-u7wF",
        "outputId": "e6f4c2c0-d9bf-468c-d574-285c6682d5fd",
        "colab": {
          "base_uri": "https://localhost:8080/"
        }
      },
      "source": [
        "df2019.shape"
      ],
      "execution_count": 64,
      "outputs": [
        {
          "output_type": "execute_result",
          "data": {
            "text/plain": [
              "(20, 13)"
            ]
          },
          "metadata": {},
          "execution_count": 64
        }
      ]
    },
    {
      "cell_type": "code",
      "source": [
        "df.shape"
      ],
      "metadata": {
        "colab": {
          "base_uri": "https://localhost:8080/"
        },
        "id": "ZS2uu9JusF2w",
        "outputId": "dd76b2ba-2156-455c-813b-6813c1cae167"
      },
      "execution_count": 65,
      "outputs": [
        {
          "output_type": "execute_result",
          "data": {
            "text/plain": [
              "(20, 13)"
            ]
          },
          "metadata": {},
          "execution_count": 65
        }
      ]
    },
    {
      "cell_type": "markdown",
      "metadata": {
        "id": "o4x9M9ArXl7l"
      },
      "source": [
        "## Quick Exploratory Data Analysis"
      ]
    },
    {
      "cell_type": "code",
      "metadata": {
        "id": "Vw0kwGHNgSMS"
      },
      "source": [
        "import seaborn as sns"
      ],
      "execution_count": 34,
      "outputs": []
    },
    {
      "cell_type": "markdown",
      "metadata": {
        "id": "Vw77h9jPEd2z"
      },
      "source": [
        "Making the histogram"
      ]
    },
    {
      "cell_type": "code",
      "metadata": {
        "id": "NqU0tBcuh-5V",
        "outputId": "546bd88c-9993-41af-9e2e-3297542c019a",
        "colab": {
          "base_uri": "https://localhost:8080/",
          "height": 663
        }
      },
      "source": [
        "sns.distplot(df.W,\n",
        "             kde=False)"
      ],
      "execution_count": 72,
      "outputs": [
        {
          "output_type": "stream",
          "name": "stderr",
          "text": [
            "<ipython-input-72-a17be1c73da9>:1: UserWarning: \n",
            "\n",
            "`distplot` is a deprecated function and will be removed in seaborn v0.14.0.\n",
            "\n",
            "Please adapt your code to use either `displot` (a figure-level function with\n",
            "similar flexibility) or `histplot` (an axes-level function for histograms).\n",
            "\n",
            "For a guide to updating your code to use the new functions, please see\n",
            "https://gist.github.com/mwaskom/de44147ed2974457ad6372750bbe5751\n",
            "\n",
            "  sns.distplot(df.W,\n"
          ]
        },
        {
          "output_type": "execute_result",
          "data": {
            "text/plain": [
              "<Axes: xlabel='W'>"
            ]
          },
          "metadata": {},
          "execution_count": 72
        },
        {
          "output_type": "display_data",
          "data": {
            "text/plain": [
              "<Figure size 640x480 with 1 Axes>"
            ],
            "image/png": "[encoded data removed]"
          },
          "metadata": {}
        }
      ]
    },
    {
      "cell_type": "markdown",
      "metadata": {
        "id": "aXcBxnrBEWGj"
      },
      "source": [
        "Change bar line color"
      ]
    },
    {
      "cell_type": "code",
      "metadata": {
        "id": "ImyO9mMGkkTm",
        "outputId": "f29d0b97-4835-4ec7-94c8-2d679b255bd8",
        "colab": {
          "base_uri": "https://localhost:8080/",
          "height": 663
        }
      },
      "source": [
        "sns.distplot(df.W,\n",
        "             kde=False,\n",
        "             hist_kws=dict(edgecolor=\"black\", linewidth=2))"
      ],
      "execution_count": 73,
      "outputs": [
        {
          "output_type": "stream",
          "name": "stderr",
          "text": [
            "<ipython-input-73-796155827df7>:1: UserWarning: \n",
            "\n",
            "`distplot` is a deprecated function and will be removed in seaborn v0.14.0.\n",
            "\n",
            "Please adapt your code to use either `displot` (a figure-level function with\n",
            "similar flexibility) or `histplot` (an axes-level function for histograms).\n",
            "\n",
            "For a guide to updating your code to use the new functions, please see\n",
            "https://gist.github.com/mwaskom/de44147ed2974457ad6372750bbe5751\n",
            "\n",
            "  sns.distplot(df.W,\n"
          ]
        },
        {
          "output_type": "execute_result",
          "data": {
            "text/plain": [
              "<Axes: xlabel='W'>"
            ]
          },
          "metadata": {},
          "execution_count": 73
        },
        {
          "output_type": "display_data",
          "data": {
            "text/plain": [
              "<Figure size 640x480 with 1 Axes>"
            ],
            "image/png": "[encoded data removed]"
          },
          "metadata": {}
        }
      ]
    },
    {
      "cell_type": "markdown",
      "metadata": {
        "id": "uqkKFD4LEjoH"
      },
      "source": [
        "Change bar fill colors"
      ]
    },
    {
      "cell_type": "code",
      "metadata": {
        "id": "RtdOAqjL34Vl",
        "outputId": "77b11e96-1a25-49d8-86ed-5f21efbdc390",
        "colab": {
          "base_uri": "https://localhost:8080/",
          "height": 663
        }
      },
      "source": [
        "sns.distplot(df.W,\n",
        "             kde=False,\n",
        "             hist_kws=dict(edgecolor=\"black\", linewidth=2),\n",
        "             color='#00BFC4')"
      ],
      "execution_count": 75,
      "outputs": [
        {
          "output_type": "stream",
          "name": "stderr",
          "text": [
            "<ipython-input-75-3b251620b021>:1: UserWarning: \n",
            "\n",
            "`distplot` is a deprecated function and will be removed in seaborn v0.14.0.\n",
            "\n",
            "Please adapt your code to use either `displot` (a figure-level function with\n",
            "similar flexibility) or `histplot` (an axes-level function for histograms).\n",
            "\n",
            "For a guide to updating your code to use the new functions, please see\n",
            "https://gist.github.com/mwaskom/de44147ed2974457ad6372750bbe5751\n",
            "\n",
            "  sns.distplot(df.W,\n"
          ]
        },
        {
          "output_type": "execute_result",
          "data": {
            "text/plain": [
              "<Axes: xlabel='W'>"
            ]
          },
          "metadata": {},
          "execution_count": 75
        },
        {
          "output_type": "display_data",
          "data": {
            "text/plain": [
              "<Figure size 640x480 with 1 Axes>"
            ],
            "image/png": "[encoded data removed]"
          },
          "metadata": {}
        }
      ]
    }
  ]
}